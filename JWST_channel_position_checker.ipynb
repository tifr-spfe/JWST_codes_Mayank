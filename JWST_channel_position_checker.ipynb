{
 "cells": [
  {
   "cell_type": "code",
   "execution_count": null,
   "id": "510b8105",
   "metadata": {},
   "outputs": [],
   "source": [
    "import numpy as np\n",
    "import matplotlib.pyplot as plt\n",
    "from astropy.io import fits\n",
    "from scipy.optimize import curve_fit\n",
    "from astropy import wcs\n",
    "import glob\n",
    "from lmfit import Minimizer, Parameters, report_fit\n",
    "\n",
    "import lmfit\n",
    "from lmfit.lineshapes import gaussian2d, lorentzian\n",
    "\n",
    "\n",
    "from matplotlib.ticker import FormatStrFormatter\n",
    "plt.rcParams['font.size'] = 35\n",
    "plt.rcParams['axes.labelsize'] = 35\n",
    "plt.rcParams['xtick.labelsize'] = 35\n",
    "plt.rcParams['ytick.labelsize'] =35\n",
    "plt.rcParams['legend.fontsize'] = 35\n",
    "plt.rcParams['figure.titlesize'] = 12\n",
    "plt.rcParams['axes.labelweight']='bold'\n",
    "plt.rcParams['axes.linewidth'] = 3\n",
    "plt.rcParams['xtick.major.size'] = 5\n",
    "plt.rcParams['xtick.minor.size'] = 3\n",
    "plt.rcParams['ytick.major.size'] = 5\n",
    "plt.rcParams['ytick.minor.size'] = 3\n",
    "plt.rcParams['xtick.major.width'] = 5\n",
    "plt.rcParams['ytick.major.width'] = 3\n",
    "plt.rcParams['xtick.minor.width'] = 5\n",
    "plt.rcParams['ytick.minor.width'] = 3"
   ]
  },
  {
   "cell_type": "code",
   "execution_count": null,
   "id": "f05ceaa9",
   "metadata": {},
   "outputs": [],
   "source": [
    "def residual(params, amp, amperr):\n",
    "    height = params['height']\n",
    "    x = params['x']\n",
    "    y = params['y']\n",
    "    sigma = params['sigma']\n",
    "    \n",
    "    xpix,ypix = np.meshgrid(np.arange(amp.shape[1]),np.arange(amp.shape[0]))\n",
    "    \n",
    "    model = height*np.exp(-(((x-xpix)/sigma)**2+((y-ypix)/sigma)**2)/2)\n",
    "    \n",
    "    return (amp-model) / amperr"
   ]
  },
  {
   "cell_type": "code",
   "execution_count": null,
   "id": "91b8dc98",
   "metadata": {},
   "outputs": [],
   "source": [
    "def gauss_fitter(amp,amperr,plot_gass=False):\n",
    "    params = Parameters()\n",
    "    yo_guess, xo_guess = np.unravel_index(np.argmax(amp), amp.shape)\n",
    "    sigma_x_guess, sigma_y_guess = 2.0, 2.0  # Initial guess for sigma\n",
    "    params.add('height', value=np.max(amp))\n",
    "    params.add('x', value=xo_guess, min=xo_guess-0.25, max=xo_guess+0.25) #estimated from looking at the amp values\n",
    "    params.add('y', value=yo_guess, min=yo_guess-0.25, max=yo_guess+0.25)\n",
    "    params.add('sigma', value=1,min=0.5, max=2)\n",
    "    minner = Minimizer(residual, params, fcn_args=(amp, amperr))\n",
    "    result = minner.minimize()\n",
    "    \n",
    "    fit = result.params.valuesdict()\n",
    "    if plot_gass==True:\n",
    "        report_fit(result)\n",
    "        plt.figure(figsize=[12,12])\n",
    "        xpix,ypix = np.meshgrid(np.linspace(0,amp.shape[0],60),np.linspace(0,amp.shape[1],60))\n",
    "        bestfit = fit[\"height\"]*np.exp(-(((fit[\"x\"]-xpix)/fit[\"sigma\"])**2+((fit[\"y\"]-ypix)/fit[\"sigma\"])**2)/2)\n",
    "        plt.contour(xpix,ypix,bestfit,colors='0')\n",
    "        plt.scatter(xo_guess, yo_guess,c='w',s=200)\n",
    "        plt.imshow(np.log10(amp/np.max(amp)),origin='lower',vmin=-2,vmax=0.1)\n",
    "        plt.show()\n",
    "    return fit[\"x\"],fit[\"y\"]"
   ]
  },
  {
   "cell_type": "code",
   "execution_count": null,
   "id": "a3b4ea6e",
   "metadata": {},
   "outputs": [],
   "source": [
    "def pos_dif(file,j,plot_gass=False):\n",
    "    cube_hdulist = fits.open(file)\n",
    "\n",
    "    nw = cube_hdulist[1].shape[0]\n",
    "\n",
    "    cube_data = cube_hdulist[1].data\n",
    "    w = wcs.WCS(cube_hdulist[1].header)\n",
    "    hdr = cube_hdulist[1].header\n",
    "    wave = (np.arange(nw) + hdr[\"CRPIX3\"]) * hdr[\"CDELT3\"] + hdr[\"CRVAL3\"]\n",
    "\n",
    "\n",
    "    amp=[]\n",
    "    xa=[]\n",
    "    ya=[]\n",
    "    sigx=[]\n",
    "    sigy=[]\n",
    "    ww=[]\n",
    "    wave=wave[0:np.shape(cube_data)[0]]\n",
    "\n",
    "\n",
    "    i=0\n",
    "    while i<np.shape(cube_data)[0]:\n",
    "        # Fit Gaussian to the central region of the cube\n",
    "        z_index = i#np.shape(cube_data)[0] // 2  # Choose central spectral channel\n",
    "        amp = np.mean(cube_data[z_index:z_index+j],axis=0)\n",
    "        amperr=np.std(cube_data[z_index:z_index+j],axis=0)\n",
    "        amp[np.isnan(amp)]=1e-10\n",
    "        amp[amp<np.max(amp)*0.05]=1e-10\n",
    "        amperr[np.isnan(amperr)]=1e-10\n",
    "        x1,y1=gauss_fitter(amp,amperr,plot_gass)\n",
    "        a=w.pixel_to_world(x1,y1,0)[0]\n",
    "        xa.append((a.ra).deg)\n",
    "        ya.append((a.dec).deg)\n",
    "        ww.append(np.mean(wave[z_index:z_index+j]))\n",
    "        i=i+(j//3)\n",
    "    xa=np.array(xa)\n",
    "    ya=np.array(ya)\n",
    "    ww=np.array(ww)\n",
    "\n",
    "    x1=np.percentile(xa,40)\n",
    "    x2=np.percentile(xa,60)\n",
    "\n",
    "    ya=ya[(x1<xa) & (xa<x2)]\n",
    "    ww=ww[(x1<xa) & (xa<x2)]\n",
    "    xa=xa[(x1<xa) & (xa<x2)]\n",
    "\n",
    "    plt.figure(figsize=[12,12])\n",
    "    plt.scatter(ww,(xa-np.mean(xa))*3600,label='RA',s=100,c='b')\n",
    "    plt.scatter(ww,(ya-np.mean(ya))*3600,label='Dec',s=100,c='orange')\n",
    "    plt.legend()\n",
    "    plt.ylim(-0.1,0.1)\n",
    "    plt.xlabel('Wavelength ($\\mu$m)')\n",
    "    plt.ylabel('Offset from mean (arcsec)')\n",
    "        \n",
    "        \n",
    "    print(\"In \"+ str(file) + \" the mean RA is \" + str(np.mean(xa))+ \" degs and mean Dec is \"+ str(np.mean(ya))+ ' degs with mean\\\n",
    "          wavelength in mircons '+ str(np.mean(ww)))\n",
    "    return np.mean(xa),np.mean(ya),np.mean(ww)\n",
    "\n",
    "       "
   ]
  },
  {
   "cell_type": "code",
   "execution_count": null,
   "id": "b4636205",
   "metadata": {
    "scrolled": false
   },
   "outputs": [],
   "source": [
    "xa,ya,ww=pos_dif('Level3_ch4-short_s3d.fits',60,plot_gass=True)\n",
    "\n",
    "\n"
   ]
  },
  {
   "cell_type": "code",
   "execution_count": null,
   "id": "8fe51306",
   "metadata": {
    "scrolled": false
   },
   "outputs": [],
   "source": [
    "files=glob.glob('*fits*')\n",
    "ra=[]\n",
    "dec=[]\n",
    "ww=[]\n",
    "for file in files:\n",
    "    print(file)\n",
    "    ra1,dec1,ww1=pos_dif(file,60)\n",
    "    plt.plot(ww1,ra1)\n",
    "    ra.append(ra1)\n",
    "    dec.append(dec1)\n",
    "    ww.append(ww1)\n"
   ]
  },
  {
   "cell_type": "code",
   "execution_count": null,
   "id": "4f6192ae",
   "metadata": {
    "scrolled": false
   },
   "outputs": [],
   "source": [
    "(ra -np.median(ra))*3600.0"
   ]
  },
  {
   "cell_type": "code",
   "execution_count": null,
   "id": "f72e0060",
   "metadata": {},
   "outputs": [],
   "source": [
    "(dec -np.median(dec))*3600.0\n"
   ]
  },
  {
   "cell_type": "code",
   "execution_count": null,
   "id": "795d0e5a",
   "metadata": {
    "scrolled": false
   },
   "outputs": [],
   "source": [
    "offset=(((ra -np.median(ra))*3600.0)**2 + ((dec -np.median(dec))*3600.0)**2)**0.5"
   ]
  },
  {
   "cell_type": "code",
   "execution_count": null,
   "id": "dc15e287",
   "metadata": {},
   "outputs": [],
   "source": [
    "plt.figure(figsize=[12,12])\n",
    "plt.scatter(ww,offset,s=100,c='b')\n",
    "plt.legend()\n",
    "plt.ylim(-1,1)\n",
    "plt.xlabel('Wavelength ($\\mu$m)')\n",
    "plt.ylabel('Offset from mean (arcsec)')"
   ]
  },
  {
   "cell_type": "code",
   "execution_count": null,
   "id": "12dc6620",
   "metadata": {},
   "outputs": [],
   "source": [
    "offset\n",
    "ww=np.array(ww)"
   ]
  },
  {
   "cell_type": "code",
   "execution_count": null,
   "id": "84d8a135",
   "metadata": {},
   "outputs": [],
   "source": [
    "inds = ww.argsort()\n",
    "offset= offset[inds]\n",
    "ww.sort()"
   ]
  },
  {
   "cell_type": "code",
   "execution_count": null,
   "id": "7f2327c0",
   "metadata": {},
   "outputs": [],
   "source": [
    "ww"
   ]
  },
  {
   "cell_type": "code",
   "execution_count": null,
   "id": "d3ede32a",
   "metadata": {},
   "outputs": [],
   "source": [
    "offset"
   ]
  },
  {
   "cell_type": "code",
   "execution_count": null,
   "id": "b216d89c",
   "metadata": {},
   "outputs": [],
   "source": []
  }
 ],
 "metadata": {
  "kernelspec": {
   "display_name": "Python 3",
   "language": "python",
   "name": "python3"
  },
  "language_info": {
   "codemirror_mode": {
    "name": "ipython",
    "version": 3
   },
   "file_extension": ".py",
   "mimetype": "text/x-python",
   "name": "python",
   "nbconvert_exporter": "python",
   "pygments_lexer": "ipython3",
   "version": "3.8.8"
  }
 },
 "nbformat": 4,
 "nbformat_minor": 5
}
